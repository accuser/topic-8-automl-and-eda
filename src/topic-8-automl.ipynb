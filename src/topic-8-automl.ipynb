{
 "cells": [
  {
   "cell_type": "markdown",
   "metadata": {},
   "source": [
    "<header style=\"background: white; border-left: 8px solid #602663; padding: 1em;\">\n",
    "<div>\n",
    "<span style=\"color: black; font-size: small; font-weight: 700; text-transform: uppercase;\">Level 6 Data Science / Software Engineering</span><br><span style=\"color: #602663; font-size: xx-large; font-weight: 900;\">Topic 8: AutoML</span>\n",
    "</div>\n",
    "</header>"
   ]
  },
  {
   "cell_type": "markdown",
   "metadata": {},
   "source": [
    "First, let's install the necessary pacakges. \n",
    "\n",
    "> **Note**:\n",
    "The packages and their dependencies (included in `requirements.txt`) are the ones that we used when building this notebook. We use `pip install -q` to install them without showing any output."
   ]
  },
  {
   "cell_type": "code",
   "execution_count": null,
   "metadata": {},
   "outputs": [],
   "source": [
    "%pip install -q -r ../requirements.txt"
   ]
  },
  {
   "cell_type": "code",
   "execution_count": null,
   "metadata": {},
   "outputs": [],
   "source": [
    "# Ignore warnings - they are mostly about deprecation of certain features\n",
    "import warnings\n",
    "warnings.filterwarnings(\"ignore\")\n",
    "\n",
    "# Ignore matplotlib font manager logging - which is not relevant for this notebook\n",
    "import logging\n",
    "logging.getLogger(\"matplotlib.font_manager\").setLevel(logging.ERROR)"
   ]
  },
  {
   "cell_type": "markdown",
   "metadata": {},
   "source": [
    "We will use the *IBM HR Analytics Employee Attrition & Performance* data set from Kaggle.\n",
    "\n",
    "> *Uncover the factors that lead to employee attrition and explore important questions such as ‘show me a breakdown of distance from home by job role and attrition’ or ‘compare average monthly income by education and attrition’. This is a fictional data set created by IBM data scientists*: https://www.kaggle.com/datasets/pavansubhasht/ibm-hr-analytics-attrition-dataset"
   ]
  },
  {
   "cell_type": "code",
   "execution_count": null,
   "metadata": {},
   "outputs": [],
   "source": [
    "from pandas import read_csv\n",
    "\n",
    "data = read_csv('https://raw.githubusercontent.com/BPP-Digital-Advanced-Data-Analytics/public_datasets/main/WA_Fn-UseC_-HR-Employee-Attrition.csv')\n",
    "data.head()"
   ]
  },
  {
   "cell_type": "code",
   "execution_count": null,
   "metadata": {},
   "outputs": [],
   "source": [
    "data.info()"
   ]
  },
  {
   "cell_type": "markdown",
   "metadata": {},
   "source": [
    "Most AutoML packages for binary outcomes require it to be an integer. Let's make the `Attrition` column `1` for `Yes` and `0` for `No`."
   ]
  },
  {
   "cell_type": "code",
   "execution_count": null,
   "metadata": {},
   "outputs": [],
   "source": [
    "\n",
    "data['Attrition'] = data['Attrition'].replace({'Yes': 1, 'No': 0})\n",
    "data['Attrition'] = data['Attrition'].astype(int)"
   ]
  },
  {
   "cell_type": "markdown",
   "metadata": {},
   "source": [
    "Scikit Learn is a machine learning library that we will use to build our models. Here we configure it and enable metadata routing to ensure that the Area Under the ROC Curve (AUC) is calculated correctly for each model."
   ]
  },
  {
   "cell_type": "code",
   "execution_count": null,
   "metadata": {},
   "outputs": [],
   "source": [
    "from sklearn import set_config\n",
    "\n",
    "set_config(enable_metadata_routing=True)"
   ]
  },
  {
   "cell_type": "code",
   "execution_count": null,
   "metadata": {},
   "outputs": [],
   "source": [
    "from pycaret.classification import setup\n",
    "\n",
    "s = setup(\n",
    "    data,  # our dataframe\n",
    "    target = \"Attrition\",  # the feature that we want to predict\n",
    "    ignore_features = [  # features we want to exclude because they are not useful\n",
    "        \"EmployeeCount\",\n",
    "        \"EmployeeNumber\",\n",
    "        \"Over18\",\n",
    "        \"StandardHours\",\n",
    "    ],\n",
    "    session_id = 123,\n",
    ")"
   ]
  },
  {
   "cell_type": "code",
   "execution_count": null,
   "metadata": {},
   "outputs": [],
   "source": [
    "from pycaret.classification import compare_models\n",
    "\n",
    "best_accuracy = compare_models(sort = 'Accuracy', fold = 5, exclude = ['lightgbm'])\n"
   ]
  },
  {
   "cell_type": "code",
   "execution_count": null,
   "metadata": {},
   "outputs": [],
   "source": [
    "from pycaret.classification import plot_model\n",
    "\n",
    "plot_model(best_accuracy, plot = 'confusion_matrix')"
   ]
  },
  {
   "cell_type": "code",
   "execution_count": null,
   "metadata": {},
   "outputs": [],
   "source": [
    "from pycaret.classification import predict_model\n",
    "\n",
    "pred_holdout = predict_model(best_accuracy)"
   ]
  },
  {
   "cell_type": "code",
   "execution_count": null,
   "metadata": {},
   "outputs": [],
   "source": [
    "from pycaret.classification import create_model\n",
    "\n",
    "thresh = 0.5  # CHANGE THIS above and below 0.5 but ensure it is greater than 0 and less than 1\n",
    "\n",
    "lda = create_model('lda',\n",
    "                   probability_threshold = thresh,\n",
    "                   fold = 5)\n",
    "\n",
    "plot_model(lda, plot = 'confusion_matrix')\n",
    "\n",
    "holdout_pred = predict_model(lda)"
   ]
  },
  {
   "cell_type": "code",
   "execution_count": null,
   "metadata": {},
   "outputs": [],
   "source": [
    "plot_model(lda, plot = 'pr')"
   ]
  },
  {
   "cell_type": "code",
   "execution_count": null,
   "metadata": {},
   "outputs": [],
   "source": [
    "plot_model(lda, plot = 'feature')"
   ]
  },
  {
   "cell_type": "code",
   "execution_count": null,
   "metadata": {},
   "outputs": [],
   "source": [
    "from pycaret.classification import check_fairness\n",
    "\n",
    "check_fairness(lda, sensitive_features = ['Gender'])"
   ]
  }
 ],
 "metadata": {
  "kernelspec": {
   "display_name": ".venv",
   "language": "python",
   "name": "python3"
  },
  "language_info": {
   "codemirror_mode": {
    "name": "ipython",
    "version": 3
   },
   "file_extension": ".py",
   "mimetype": "text/x-python",
   "name": "python",
   "nbconvert_exporter": "python",
   "pygments_lexer": "ipython3",
   "version": "3.11.8"
  }
 },
 "nbformat": 4,
 "nbformat_minor": 2
}
