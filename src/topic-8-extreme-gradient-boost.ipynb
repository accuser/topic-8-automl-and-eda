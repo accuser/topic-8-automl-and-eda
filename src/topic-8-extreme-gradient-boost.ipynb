{
 "cells": [
  {
   "cell_type": "markdown",
   "metadata": {},
   "source": [
    "# <span style=\"font-size: 50%;\">Level 6 Data Science - Software Engineering</span><br>Topic 8 - Extreme Granient Boost (xgboost)"
   ]
  },
  {
   "cell_type": "markdown",
   "metadata": {},
   "source": [
    "First, let's install the necessary libraries. Their versions (included in `requirements.txt`) are the ones that we have tested, and we can use `pip install -q` to install them without showing the output."
   ]
  },
  {
   "cell_type": "code",
   "execution_count": null,
   "metadata": {},
   "outputs": [],
   "source": [
    "%pip install -q -r ../requirements.txt"
   ]
  },
  {
   "cell_type": "code",
   "execution_count": null,
   "metadata": {},
   "outputs": [],
   "source": [
    "# Ignore warnings - they are mostly about deprecation of certain features\n",
    "import warnings\n",
    "warnings.filterwarnings(\"ignore\")\n",
    "\n",
    "# Ignore matplotlib font manager logging (which is not relevant for this notebook)\n",
    "import logging\n",
    "logging.getLogger(\"matplotlib.font_manager\").setLevel(logging.ERROR)"
   ]
  },
  {
   "cell_type": "code",
   "execution_count": null,
   "metadata": {},
   "outputs": [],
   "source": [
    "from pandas import read_csv\n",
    "\n",
    "data = read_csv('https://raw.githubusercontent.com/BPP-Digital-Advanced-Data-Analytics/public_datasets/main/WA_Fn-UseC_-HR-Employee-Attrition.csv')\n",
    "\n",
    "data['Attrition'] = data['Attrition'].replace({'Yes': 1, 'No': 0})\n",
    "data['Attrition'] = data['Attrition'].astype(int)"
   ]
  },
  {
   "cell_type": "code",
   "execution_count": null,
   "metadata": {},
   "outputs": [],
   "source": [
    "from pycaret.classification import setup\n",
    "from sklearn import set_config\n",
    "\n",
    "set_config(enable_metadata_routing=True)\n",
    "\n",
    "s = setup(\n",
    "    data,  # our dataframe\n",
    "    target=\"Attrition\",  # the feature that we want to predict\n",
    "    ignore_features=[  # features we want to exclude because they are not useful\n",
    "        \"EmployeeCount\",\n",
    "        \"EmployeeNumber\",\n",
    "        \"Over18\",\n",
    "        \"StandardHours\",\n",
    "    ],\n",
    "    session_id=123,\n",
    ")"
   ]
  },
  {
   "cell_type": "code",
   "execution_count": null,
   "metadata": {},
   "outputs": [],
   "source": [
    "from pycaret.classification import create_model, plot_model, predict_model\n",
    "\n",
    "thresh = 0.5 # Again select a threhold with your desired balance of Precision and Recall\n",
    "\n",
    "xg = create_model('xgboost',\n",
    "                   probability_threshold = thresh,\n",
    "                  fold=5)\n",
    "\n",
    "plot_model(xg, plot = 'confusion_matrix')\n",
    "holdout_predict_xg = predict_model(xg)"
   ]
  },
  {
   "cell_type": "code",
   "execution_count": null,
   "metadata": {},
   "outputs": [],
   "source": [
    "from pycaret.classification import interpret_model\n",
    "\n",
    "interpret_model(xg, plot = 'summary')"
   ]
  },
  {
   "cell_type": "code",
   "execution_count": null,
   "metadata": {},
   "outputs": [],
   "source": [
    "observation = 434 # row number of the observation to explain\n",
    "\n",
    "# Create a single-row DataFrame for the observation\n",
    "df = s.X_test.iloc[[observation]]\n",
    "\n",
    "# Use the trained model to make a prediction for the observation\n",
    "prediction = predict_model(xg, data=df)\n",
    "\n",
    "# Print out the actual prediction\n",
    "print(f\"The model's prediction is: {prediction.prediction_label.values[0]}\")\n",
    "\n",
    "if s.y_test.iloc[observation] == 1:\n",
    "    print(\"The person DID churn in reality\")\n",
    "else:\n",
    "    print(\"The person did NOT churn in reality\")\n",
    "\n",
    "display(interpret_model(xg, plot = 'reason', observation = observation))\n",
    "display(s.X_test.iloc[observation])\n"
   ]
  },
  {
   "cell_type": "code",
   "execution_count": null,
   "metadata": {},
   "outputs": [],
   "source": [
    "from pycaret.classification import check_fairness\n",
    "\n",
    "check_fairness(xg, sensitive_features = ['Gender'])"
   ]
  }
 ],
 "metadata": {
  "kernelspec": {
   "display_name": ".venv",
   "language": "python",
   "name": "python3"
  },
  "language_info": {
   "codemirror_mode": {
    "name": "ipython",
    "version": 3
   },
   "file_extension": ".py",
   "mimetype": "text/x-python",
   "name": "python",
   "nbconvert_exporter": "python",
   "pygments_lexer": "ipython3",
   "version": "3.11.8"
  }
 },
 "nbformat": 4,
 "nbformat_minor": 2
}
